{
 "cells": [
  {
   "cell_type": "code",
   "execution_count": 1,
   "id": "012766a6-8129-43d8-8db9-fd8675e90a1c",
   "metadata": {},
   "outputs": [],
   "source": [
    "## Week 6: Data Retrieval and Processing"
   ]
  },
  {
   "cell_type": "code",
   "execution_count": 2,
   "id": "ca8857f8-215c-4217-b4f9-d7a29e6d1afe",
   "metadata": {},
   "outputs": [
    {
     "name": "stdout",
     "output_type": "stream",
     "text": [
      "Requirement already satisfied: web3 in c:\\users\\dream pc\\miniconda3\\envs\\myenv\\lib\\site-packages (7.12.0)\n",
      "Requirement already satisfied: eth-abi>=5.0.1 in c:\\users\\dream pc\\miniconda3\\envs\\myenv\\lib\\site-packages (from web3) (5.2.0)\n",
      "Requirement already satisfied: eth-account>=0.13.6 in c:\\users\\dream pc\\miniconda3\\envs\\myenv\\lib\\site-packages (from web3) (0.13.7)\n",
      "Requirement already satisfied: eth-hash>=0.5.1 in c:\\users\\dream pc\\miniconda3\\envs\\myenv\\lib\\site-packages (from eth-hash[pycryptodome]>=0.5.1->web3) (0.7.1)\n",
      "Requirement already satisfied: eth-typing>=5.0.0 in c:\\users\\dream pc\\miniconda3\\envs\\myenv\\lib\\site-packages (from web3) (5.2.1)\n",
      "Requirement already satisfied: eth-utils>=5.0.0 in c:\\users\\dream pc\\miniconda3\\envs\\myenv\\lib\\site-packages (from web3) (5.3.0)\n",
      "Requirement already satisfied: hexbytes>=1.2.0 in c:\\users\\dream pc\\miniconda3\\envs\\myenv\\lib\\site-packages (from web3) (1.3.1)\n",
      "Requirement already satisfied: aiohttp>=3.7.4.post0 in c:\\users\\dream pc\\miniconda3\\envs\\myenv\\lib\\site-packages (from web3) (3.12.0)\n",
      "Requirement already satisfied: pydantic>=2.4.0 in c:\\users\\dream pc\\miniconda3\\envs\\myenv\\lib\\site-packages (from web3) (2.11.5)\n",
      "Requirement already satisfied: pywin32>=223 in c:\\users\\dream pc\\miniconda3\\envs\\myenv\\lib\\site-packages (from web3) (305.1)\n",
      "Requirement already satisfied: requests>=2.23.0 in c:\\users\\dream pc\\miniconda3\\envs\\myenv\\lib\\site-packages (from web3) (2.32.3)\n",
      "Requirement already satisfied: typing-extensions>=4.0.1 in c:\\users\\dream pc\\miniconda3\\envs\\myenv\\lib\\site-packages (from web3) (4.13.2)\n",
      "Requirement already satisfied: types-requests>=2.0.0 in c:\\users\\dream pc\\miniconda3\\envs\\myenv\\lib\\site-packages (from web3) (2.32.0.20250515)\n",
      "Requirement already satisfied: websockets<16.0.0,>=10.0.0 in c:\\users\\dream pc\\miniconda3\\envs\\myenv\\lib\\site-packages (from web3) (15.0.1)\n",
      "Requirement already satisfied: pyunormalize>=15.0.0 in c:\\users\\dream pc\\miniconda3\\envs\\myenv\\lib\\site-packages (from web3) (16.0.0)\n",
      "Requirement already satisfied: aiohappyeyeballs>=2.5.0 in c:\\users\\dream pc\\miniconda3\\envs\\myenv\\lib\\site-packages (from aiohttp>=3.7.4.post0->web3) (2.6.1)\n",
      "Requirement already satisfied: aiosignal>=1.1.2 in c:\\users\\dream pc\\miniconda3\\envs\\myenv\\lib\\site-packages (from aiohttp>=3.7.4.post0->web3) (1.3.2)\n",
      "Requirement already satisfied: attrs>=17.3.0 in c:\\users\\dream pc\\miniconda3\\envs\\myenv\\lib\\site-packages (from aiohttp>=3.7.4.post0->web3) (23.1.0)\n",
      "Requirement already satisfied: frozenlist>=1.1.1 in c:\\users\\dream pc\\miniconda3\\envs\\myenv\\lib\\site-packages (from aiohttp>=3.7.4.post0->web3) (1.6.0)\n",
      "Requirement already satisfied: multidict<7.0,>=4.5 in c:\\users\\dream pc\\miniconda3\\envs\\myenv\\lib\\site-packages (from aiohttp>=3.7.4.post0->web3) (6.4.4)\n",
      "Requirement already satisfied: propcache>=0.2.0 in c:\\users\\dream pc\\miniconda3\\envs\\myenv\\lib\\site-packages (from aiohttp>=3.7.4.post0->web3) (0.3.1)\n",
      "Requirement already satisfied: yarl<2.0,>=1.17.0 in c:\\users\\dream pc\\miniconda3\\envs\\myenv\\lib\\site-packages (from aiohttp>=3.7.4.post0->web3) (1.20.0)\n",
      "Requirement already satisfied: parsimonious<0.11.0,>=0.10.0 in c:\\users\\dream pc\\miniconda3\\envs\\myenv\\lib\\site-packages (from eth-abi>=5.0.1->web3) (0.10.0)\n",
      "Requirement already satisfied: bitarray>=2.4.0 in c:\\users\\dream pc\\miniconda3\\envs\\myenv\\lib\\site-packages (from eth-account>=0.13.6->web3) (3.4.2)\n",
      "Requirement already satisfied: eth-keyfile<0.9.0,>=0.7.0 in c:\\users\\dream pc\\miniconda3\\envs\\myenv\\lib\\site-packages (from eth-account>=0.13.6->web3) (0.8.1)\n",
      "Requirement already satisfied: eth-keys>=0.4.0 in c:\\users\\dream pc\\miniconda3\\envs\\myenv\\lib\\site-packages (from eth-account>=0.13.6->web3) (0.7.0)\n",
      "Requirement already satisfied: eth-rlp>=2.1.0 in c:\\users\\dream pc\\miniconda3\\envs\\myenv\\lib\\site-packages (from eth-account>=0.13.6->web3) (2.2.0)\n",
      "Requirement already satisfied: rlp>=1.0.0 in c:\\users\\dream pc\\miniconda3\\envs\\myenv\\lib\\site-packages (from eth-account>=0.13.6->web3) (4.1.0)\n",
      "Requirement already satisfied: ckzg>=2.0.0 in c:\\users\\dream pc\\miniconda3\\envs\\myenv\\lib\\site-packages (from eth-account>=0.13.6->web3) (2.1.1)\n",
      "Requirement already satisfied: pycryptodome<4,>=3.6.6 in c:\\users\\dream pc\\miniconda3\\envs\\myenv\\lib\\site-packages (from eth-hash[pycryptodome]>=0.5.1->web3) (3.23.0)\n",
      "Requirement already satisfied: cytoolz>=0.10.1 in c:\\users\\dream pc\\miniconda3\\envs\\myenv\\lib\\site-packages (from eth-utils>=5.0.0->web3) (1.0.1)\n",
      "Requirement already satisfied: annotated-types>=0.6.0 in c:\\users\\dream pc\\miniconda3\\envs\\myenv\\lib\\site-packages (from pydantic>=2.4.0->web3) (0.7.0)\n",
      "Requirement already satisfied: pydantic-core==2.33.2 in c:\\users\\dream pc\\miniconda3\\envs\\myenv\\lib\\site-packages (from pydantic>=2.4.0->web3) (2.33.2)\n",
      "Requirement already satisfied: typing-inspection>=0.4.0 in c:\\users\\dream pc\\miniconda3\\envs\\myenv\\lib\\site-packages (from pydantic>=2.4.0->web3) (0.4.1)\n",
      "Requirement already satisfied: charset-normalizer<4,>=2 in c:\\users\\dream pc\\miniconda3\\envs\\myenv\\lib\\site-packages (from requests>=2.23.0->web3) (3.3.2)\n",
      "Requirement already satisfied: idna<4,>=2.5 in c:\\users\\dream pc\\miniconda3\\envs\\myenv\\lib\\site-packages (from requests>=2.23.0->web3) (3.7)\n",
      "Requirement already satisfied: urllib3<3,>=1.21.1 in c:\\users\\dream pc\\miniconda3\\envs\\myenv\\lib\\site-packages (from requests>=2.23.0->web3) (2.2.2)\n",
      "Requirement already satisfied: certifi>=2017.4.17 in c:\\users\\dream pc\\miniconda3\\envs\\myenv\\lib\\site-packages (from requests>=2.23.0->web3) (2024.7.4)\n",
      "Requirement already satisfied: toolz>=0.8.0 in c:\\users\\dream pc\\miniconda3\\envs\\myenv\\lib\\site-packages (from cytoolz>=0.10.1->eth-utils>=5.0.0->web3) (1.0.0)\n",
      "Requirement already satisfied: regex>=2022.3.15 in c:\\users\\dream pc\\miniconda3\\envs\\myenv\\lib\\site-packages (from parsimonious<0.11.0,>=0.10.0->eth-abi>=5.0.1->web3) (2024.11.6)\n"
     ]
    }
   ],
   "source": [
    "!pip install web3"
   ]
  },
  {
   "cell_type": "code",
   "execution_count": 2,
   "id": "29ace41e-bb37-4f58-b105-37663065decf",
   "metadata": {},
   "outputs": [
    {
     "name": "stdout",
     "output_type": "stream",
     "text": [
      "✅ Connected to Ganache successfully!\n"
     ]
    }
   ],
   "source": [
    "#Establishment of Web 3 connection to the Ganache RPC URL\n",
    "from web3 import Web3\n",
    "\n",
    "\n",
    "# Connect to local blockchain\n",
    "ganache_url = \"http://127.0.0.1:7545\"\n",
    "web3 = Web3(Web3.HTTPProvider(ganache_url))\n",
    "\n",
    "\n",
    "# Verify connection\n",
    "if web3.is_connected():\n",
    "    print(\"✅ Connected to Ganache successfully!\")\n",
    "else:\n",
    "    print(\"❌ Connection failed. Ensure Ganache is running.\")"
   ]
  },
  {
   "cell_type": "code",
   "execution_count": 3,
   "id": "f821a951-7fb3-40bf-a88c-0e61c2029a6d",
   "metadata": {},
   "outputs": [
    {
     "name": "stdout",
     "output_type": "stream",
     "text": [
      "✅ Connected to Smart Contract at 0xF722Ecca72f1F3C33FBd7c1Bf8FCd29BA4BcE883\n"
     ]
    }
   ],
   "source": [
    "# Replace with actual contract address from Remix\n",
    "contract_address = \"0xF722Ecca72f1F3C33FBd7c1Bf8FCd29BA4BcE883\"\n",
    "\n",
    "\n",
    "# Paste the ABI from Remix\n",
    "abi = [\n",
    "    {\n",
    "        'inputs': [],\n",
    "        'stateMutability': 'nonpayable',\n",
    "        'type': 'constructor'\n",
    "    },\n",
    "    {\n",
    "        'anonymous': False,\n",
    "        'inputs': [\n",
    "            {'indexed': False, 'internalType': 'uint256', 'name': 'timestamp', 'type': 'uint256'},\n",
    "            {'indexed': False, 'internalType': 'string', 'name': 'sensorId', 'type': 'string'},\n",
    "            {'indexed': False, 'internalType': 'string', 'name': 'dataType', 'type': 'string'},\n",
    "            {'indexed': False, 'internalType': 'string', 'name': 'dataValue', 'type': 'string'}\n",
    "        ],\n",
    "        'name': 'DataRetrieved',\n",
    "        'type': 'event'\n",
    "    },\n",
    "    {\n",
    "        'anonymous': False,\n",
    "        'inputs': [\n",
    "            {'indexed': False, 'internalType': 'uint256', 'name': 'timestamp', 'type': 'uint256'},\n",
    "            {'indexed': False, 'internalType': 'string', 'name': 'sensorId', 'type': 'string'},\n",
    "            {'indexed': False, 'internalType': 'string', 'name': 'dataType', 'type': 'string'},\n",
    "            {'indexed': False, 'internalType': 'string', 'name': 'dataValue', 'type': 'string'}\n",
    "        ],\n",
    "        'name': 'DataStored',\n",
    "        'type': 'event'\n",
    "    },\n",
    "    {\n",
    "        'inputs': [\n",
    "            {'internalType': 'string', 'name': '_sensorId', 'type': 'string'},\n",
    "            {'internalType': 'string', 'name': '_dataType', 'type': 'string'},\n",
    "            {'internalType': 'string', 'name': '_dataValue', 'type': 'string'}\n",
    "        ],\n",
    "        'name': 'storeData',\n",
    "        'outputs': [],\n",
    "        'stateMutability': 'nonpayable',\n",
    "        'type': 'function'\n",
    "    },\n",
    "    {\n",
    "        'inputs': [\n",
    "            {'internalType': 'uint256', 'name': '', 'type': 'uint256'}\n",
    "        ],\n",
    "        'name': 'dataRecords',\n",
    "        'outputs': [\n",
    "            {'internalType': 'uint256', 'name': 'timestamp', 'type': 'uint256'},\n",
    "            {'internalType': 'string', 'name': 'sensorId', 'type': 'string'},\n",
    "            {'internalType': 'string', 'name': 'dataType', 'type': 'string'},\n",
    "            {'internalType': 'string', 'name': 'dataValue', 'type': 'string'}\n",
    "        ],\n",
    "        'stateMutability': 'view',\n",
    "        'type': 'function'\n",
    "    },\n",
    "    {\n",
    "        'inputs': [\n",
    "            {'internalType': 'uint256', 'name': 'index', 'type': 'uint256'}\n",
    "        ],\n",
    "        'name': 'getRecord',\n",
    "        'outputs': [\n",
    "            {'internalType': 'uint256', 'name': '', 'type': 'uint256'},\n",
    "            {'internalType': 'string', 'name': '', 'type': 'string'},\n",
    "            {'internalType': 'string', 'name': '', 'type': 'string'},\n",
    "            {'internalType': 'string', 'name': '', 'type': 'string'}\n",
    "        ],\n",
    "        'stateMutability': 'view',\n",
    "        'type': 'function'\n",
    "    },\n",
    "    {\n",
    "        'inputs': [],\n",
    "        'name': 'getTotalRecords',\n",
    "        'outputs': [\n",
    "            {'internalType': 'uint256', 'name': '', 'type': 'uint256'}\n",
    "        ],\n",
    "        'stateMutability': 'view',\n",
    "        'type': 'function'\n",
    "    },\n",
    "    {\n",
    "        'inputs': [],\n",
    "        'name': 'MAX_ENTRIES',\n",
    "        'outputs': [\n",
    "            {'internalType': 'uint256', 'name': '', 'type': 'uint256'}\n",
    "        ],\n",
    "        'stateMutability': 'view',\n",
    "        'type': 'function'\n",
    "    },\n",
    "    {\n",
    "        'inputs': [],\n",
    "        'name': 'owner',\n",
    "        'outputs': [\n",
    "            {'internalType': 'address', 'name': '', 'type': 'address'}\n",
    "        ],\n",
    "        'stateMutability': 'view',\n",
    "        'type': 'function'\n",
    "    }\n",
    "]\n",
    "  # Replace with your contract ABI\n",
    "\n",
    "\n",
    "# Load the smart contract\n",
    "contract = web3.eth.contract(address=contract_address, abi=abi)\n",
    "\n",
    "\n",
    "# Set the default sender address (first account from Ganache)\n",
    "web3.eth.default_account = web3.eth.accounts[0]\n",
    "\n",
    "\n",
    "print(f\"✅ Connected to Smart Contract at {contract_address}\")"
   ]
  },
  {
   "cell_type": "code",
   "execution_count": 4,
   "id": "ab8caa23-8c9d-45c8-a23b-150b6d892700",
   "metadata": {},
   "outputs": [
    {
     "name": "stdout",
     "output_type": "stream",
     "text": [
      "Total IoT records stored: 700\n"
     ]
    }
   ],
   "source": [
    "## Verify if total records is accurate which is 700:\n",
    "total_records = contract.functions.getTotalRecords().call()\n",
    "print(f\"Total IoT records stored: {total_records}\")"
   ]
  },
  {
   "cell_type": "code",
   "execution_count": 5,
   "id": "2d383b78-af41-4805-95a3-6bf98517aa90",
   "metadata": {},
   "outputs": [
    {
     "name": "stdout",
     "output_type": "stream",
     "text": [
      "            timestamp sensor_id              data_type   data_value\n",
      "0 2025-06-03 18:41:59   SENS762                co2_ppm  433.0438194\n",
      "1 2025-06-03 18:42:00   SENS762              pm25_ugm3  35.41177588\n",
      "2 2025-06-03 18:42:01   SENS762          temperature_c         30.7\n",
      "3 2025-06-03 18:42:02   SENS762       humidity_percent         64.6\n",
      "4 2025-06-03 18:42:03   SENS762  soil_moisture_percent         28.8\n"
     ]
    }
   ],
   "source": [
    "## Fetch all stored IoT data and structure it in a DataFrame\n",
    "import pandas as pd\n",
    "\n",
    "\n",
    "# Retrieve all IoT records\n",
    "data = []\n",
    "for i in range(total_records):\n",
    "    record = contract.functions.getRecord(i).call()\n",
    "    data.append({\n",
    "        \"timestamp\": record[0],\n",
    "        \"sensor_id\": record[1],\n",
    "        \"data_type\": record[2],\n",
    "        \"data_value\": record[3]\n",
    "    })\n",
    "\n",
    "\n",
    "# Convert to a DataFrame\n",
    "df = pd.DataFrame(data)\n",
    "\n",
    "\n",
    "# Convert timestamp to readable format\n",
    "df[\"timestamp\"] = pd.to_datetime(df[\"timestamp\"], unit=\"s\")\n",
    "\n",
    "\n",
    "# Display first few records\n",
    "print(df.head())"
   ]
  },
  {
   "cell_type": "code",
   "execution_count": 6,
   "id": "68b73a04-2be4-4ec6-8fde-f8a82aaf6118",
   "metadata": {},
   "outputs": [
    {
     "name": "stdout",
     "output_type": "stream",
     "text": [
      "            timestamp sensor_id              data_type   data_value  \\\n",
      "0 2025-06-03 18:41:59   SENS762                co2_ppm  433.0438194   \n",
      "1 2025-06-03 18:42:00   SENS762              pm25_ugm3  35.41177588   \n",
      "2 2025-06-03 18:42:01   SENS762          temperature_c         30.7   \n",
      "3 2025-06-03 18:42:02   SENS762       humidity_percent         64.6   \n",
      "4 2025-06-03 18:42:03   SENS762  soil_moisture_percent         28.8   \n",
      "\n",
      "   numeric_value  \n",
      "0         433.04  \n",
      "1          35.41  \n",
      "2          30.70  \n",
      "3          64.60  \n",
      "4          28.80  \n"
     ]
    }
   ],
   "source": [
    "## Data Cleaning\n",
    "import numpy as np\n",
    "\n",
    "\n",
    "# Extract numeric values from 'data_value' where applicable\n",
    "df[\"numeric_value\"] = df[\"data_value\"].str.extract(r'(\\d+\\.?\\d*)').astype(float)\n",
    "\n",
    "\n",
    "# Handle missing values (if any)\n",
    "df.fillna(0, inplace=True)\n",
    "\n",
    "# Round numeric values to two decimal places\n",
    "df[\"numeric_value\"] = df[\"numeric_value\"].round(2)\n",
    "\n",
    "# Display cleaned data\n",
    "print(df.head())"
   ]
  },
  {
   "cell_type": "code",
   "execution_count": 7,
   "id": "e1748f8e-6b01-4591-ac43-e674d39953ef",
   "metadata": {},
   "outputs": [
    {
     "name": "stdout",
     "output_type": "stream",
     "text": [
      "✅ Cleaned IoT data saved successfully as cleaned_iot_data.csv\n"
     ]
    }
   ],
   "source": [
    "# Save cleaned IoT data to a CSV file\n",
    "df.to_csv(\"cleaned_iot_data.csv\", index=False)\n",
    "\n",
    "\n",
    "print(\"✅ Cleaned IoT data saved successfully as cleaned_iot_data.csv\")"
   ]
  },
  {
   "cell_type": "code",
   "execution_count": null,
   "id": "c54e86ed-1cb8-41d4-8276-450292256785",
   "metadata": {},
   "outputs": [],
   "source": []
  }
 ],
 "metadata": {
  "kernelspec": {
   "display_name": "Python 3 (ipykernel)",
   "language": "python",
   "name": "python3"
  },
  "language_info": {
   "codemirror_mode": {
    "name": "ipython",
    "version": 3
   },
   "file_extension": ".py",
   "mimetype": "text/x-python",
   "name": "python",
   "nbconvert_exporter": "python",
   "pygments_lexer": "ipython3",
   "version": "3.12.4"
  }
 },
 "nbformat": 4,
 "nbformat_minor": 5
}
