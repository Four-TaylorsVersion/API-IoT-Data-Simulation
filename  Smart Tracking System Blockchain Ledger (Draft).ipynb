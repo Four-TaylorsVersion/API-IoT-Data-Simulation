{
 "cells": [
  {
   "cell_type": "code",
   "execution_count": 3,
   "id": "539de5d8",
   "metadata": {
    "scrolled": true
   },
   "outputs": [
    {
     "name": "stdout",
     "output_type": "stream",
     "text": [
      "Requirement already satisfied: web3 in c:\\users\\default.laptop-kqilpjks\\anaconda3\\lib\\site-packages (7.12.0)\n",
      "Requirement already satisfied: types-requests>=2.0.0 in c:\\users\\default.laptop-kqilpjks\\anaconda3\\lib\\site-packages (from web3) (2.31.0.6)\n",
      "Requirement already satisfied: websockets<16.0.0,>=10.0.0 in c:\\users\\default.laptop-kqilpjks\\anaconda3\\lib\\site-packages (from web3) (15.0.1)\n",
      "Requirement already satisfied: pyunormalize>=15.0.0 in c:\\users\\default.laptop-kqilpjks\\anaconda3\\lib\\site-packages (from web3) (16.0.0)\n",
      "Requirement already satisfied: eth-utils>=5.0.0 in c:\\users\\default.laptop-kqilpjks\\anaconda3\\lib\\site-packages (from web3) (5.3.0)\n",
      "Requirement already satisfied: aiohttp>=3.7.4.post0 in c:\\users\\default.laptop-kqilpjks\\anaconda3\\lib\\site-packages (from web3) (3.11.18)\n",
      "Requirement already satisfied: typing-extensions>=4.0.1 in c:\\users\\default.laptop-kqilpjks\\anaconda3\\lib\\site-packages (from web3) (4.13.2)\n",
      "Requirement already satisfied: pywin32>=223 in c:\\users\\default.laptop-kqilpjks\\anaconda3\\lib\\site-packages (from web3) (302)\n",
      "Requirement already satisfied: eth-typing>=5.0.0 in c:\\users\\default.laptop-kqilpjks\\anaconda3\\lib\\site-packages (from web3) (5.2.1)\n",
      "Requirement already satisfied: hexbytes>=1.2.0 in c:\\users\\default.laptop-kqilpjks\\anaconda3\\lib\\site-packages (from web3) (1.3.1)\n",
      "Requirement already satisfied: eth-account>=0.13.6 in c:\\users\\default.laptop-kqilpjks\\anaconda3\\lib\\site-packages (from web3) (0.13.7)\n",
      "Requirement already satisfied: pydantic>=2.4.0 in c:\\users\\default.laptop-kqilpjks\\anaconda3\\lib\\site-packages (from web3) (2.11.5)\n",
      "Requirement already satisfied: eth-abi>=5.0.1 in c:\\users\\default.laptop-kqilpjks\\anaconda3\\lib\\site-packages (from web3) (5.2.0)\n",
      "Requirement already satisfied: requests>=2.23.0 in c:\\users\\default.laptop-kqilpjks\\anaconda3\\lib\\site-packages (from web3) (2.28.1)\n",
      "Requirement already satisfied: eth-hash[pycryptodome]>=0.5.1 in c:\\users\\default.laptop-kqilpjks\\anaconda3\\lib\\site-packages (from web3) (0.7.1)\n",
      "Requirement already satisfied: multidict<7.0,>=4.5 in c:\\users\\default.laptop-kqilpjks\\anaconda3\\lib\\site-packages (from aiohttp>=3.7.4.post0->web3) (6.4.4)\n",
      "Requirement already satisfied: propcache>=0.2.0 in c:\\users\\default.laptop-kqilpjks\\anaconda3\\lib\\site-packages (from aiohttp>=3.7.4.post0->web3) (0.3.1)\n",
      "Requirement already satisfied: aiohappyeyeballs>=2.3.0 in c:\\users\\default.laptop-kqilpjks\\anaconda3\\lib\\site-packages (from aiohttp>=3.7.4.post0->web3) (2.6.1)\n",
      "Requirement already satisfied: frozenlist>=1.1.1 in c:\\users\\default.laptop-kqilpjks\\anaconda3\\lib\\site-packages (from aiohttp>=3.7.4.post0->web3) (1.6.0)\n",
      "Requirement already satisfied: attrs>=17.3.0 in c:\\users\\default.laptop-kqilpjks\\anaconda3\\lib\\site-packages (from aiohttp>=3.7.4.post0->web3) (21.4.0)\n",
      "Requirement already satisfied: async-timeout<6.0,>=4.0 in c:\\users\\default.laptop-kqilpjks\\anaconda3\\lib\\site-packages (from aiohttp>=3.7.4.post0->web3) (5.0.1)\n",
      "Requirement already satisfied: yarl<2.0,>=1.17.0 in c:\\users\\default.laptop-kqilpjks\\anaconda3\\lib\\site-packages (from aiohttp>=3.7.4.post0->web3) (1.20.0)\n",
      "Requirement already satisfied: aiosignal>=1.1.2 in c:\\users\\default.laptop-kqilpjks\\anaconda3\\lib\\site-packages (from aiohttp>=3.7.4.post0->web3) (1.3.2)\n",
      "Requirement already satisfied: parsimonious<0.11.0,>=0.10.0 in c:\\users\\default.laptop-kqilpjks\\anaconda3\\lib\\site-packages (from eth-abi>=5.0.1->web3) (0.10.0)\n",
      "Requirement already satisfied: eth-keyfile<0.9.0,>=0.7.0 in c:\\users\\default.laptop-kqilpjks\\anaconda3\\lib\\site-packages (from eth-account>=0.13.6->web3) (0.8.1)\n",
      "Requirement already satisfied: rlp>=1.0.0 in c:\\users\\default.laptop-kqilpjks\\anaconda3\\lib\\site-packages (from eth-account>=0.13.6->web3) (4.1.0)\n",
      "Requirement already satisfied: bitarray>=2.4.0 in c:\\users\\default.laptop-kqilpjks\\anaconda3\\lib\\site-packages (from eth-account>=0.13.6->web3) (2.5.1)\n",
      "Requirement already satisfied: eth-rlp>=2.1.0 in c:\\users\\default.laptop-kqilpjks\\anaconda3\\lib\\site-packages (from eth-account>=0.13.6->web3) (2.2.0)\n",
      "Requirement already satisfied: eth-keys>=0.4.0 in c:\\users\\default.laptop-kqilpjks\\anaconda3\\lib\\site-packages (from eth-account>=0.13.6->web3) (0.7.0)\n",
      "Requirement already satisfied: ckzg>=2.0.0 in c:\\users\\default.laptop-kqilpjks\\anaconda3\\lib\\site-packages (from eth-account>=0.13.6->web3) (2.1.1)\n",
      "Requirement already satisfied: pycryptodome<4,>=3.6.6 in c:\\users\\default.laptop-kqilpjks\\anaconda3\\lib\\site-packages (from eth-hash[pycryptodome]>=0.5.1->web3) (3.23.0)\n",
      "Requirement already satisfied: cytoolz>=0.10.1 in c:\\users\\default.laptop-kqilpjks\\anaconda3\\lib\\site-packages (from eth-utils>=5.0.0->web3) (0.11.0)\n",
      "Requirement already satisfied: pydantic-core==2.33.2 in c:\\users\\default.laptop-kqilpjks\\anaconda3\\lib\\site-packages (from pydantic>=2.4.0->web3) (2.33.2)\n",
      "Requirement already satisfied: annotated-types>=0.6.0 in c:\\users\\default.laptop-kqilpjks\\anaconda3\\lib\\site-packages (from pydantic>=2.4.0->web3) (0.7.0)\n",
      "Requirement already satisfied: typing-inspection>=0.4.0 in c:\\users\\default.laptop-kqilpjks\\anaconda3\\lib\\site-packages (from pydantic>=2.4.0->web3) (0.4.1)\n",
      "Requirement already satisfied: certifi>=2017.4.17 in c:\\users\\default.laptop-kqilpjks\\anaconda3\\lib\\site-packages (from requests>=2.23.0->web3) (2022.9.14)\n",
      "Requirement already satisfied: idna<4,>=2.5 in c:\\users\\default.laptop-kqilpjks\\anaconda3\\lib\\site-packages (from requests>=2.23.0->web3) (3.3)\n",
      "Requirement already satisfied: charset-normalizer<3,>=2 in c:\\users\\default.laptop-kqilpjks\\anaconda3\\lib\\site-packages (from requests>=2.23.0->web3) (2.0.4)\n",
      "Requirement already satisfied: urllib3<1.27,>=1.21.1 in c:\\users\\default.laptop-kqilpjks\\anaconda3\\lib\\site-packages (from requests>=2.23.0->web3) (1.26.11)\n",
      "Requirement already satisfied: types-urllib3 in c:\\users\\default.laptop-kqilpjks\\anaconda3\\lib\\site-packages (from types-requests>=2.0.0->web3) (1.26.25.14)\n",
      "Requirement already satisfied: toolz>=0.8.0 in c:\\users\\default.laptop-kqilpjks\\anaconda3\\lib\\site-packages (from cytoolz>=0.10.1->eth-utils>=5.0.0->web3) (0.11.2)\n",
      "Requirement already satisfied: regex>=2022.3.15 in c:\\users\\default.laptop-kqilpjks\\anaconda3\\lib\\site-packages (from parsimonious<0.11.0,>=0.10.0->eth-abi>=5.0.1->web3) (2022.7.9)\n"
     ]
    }
   ],
   "source": [
    "!pip install web3\n"
   ]
  },
  {
   "cell_type": "code",
   "execution_count": 4,
   "id": "a3ab4468",
   "metadata": {},
   "outputs": [
    {
     "name": "stdout",
     "output_type": "stream",
     "text": [
      "✅ Connected to Ganache successfully!\n"
     ]
    }
   ],
   "source": [
    "from web3 import Web3\n",
    "\n",
    "\n",
    "# Connect to local Ganache blockchain\n",
    "ganache_url = \"http://127.0.0.1:7545\"\n",
    "web3 = Web3(Web3.HTTPProvider(ganache_url))\n",
    "\n",
    "\n",
    "if web3.is_connected():\n",
    "    print(\"✅ Connected to Ganache successfully!\")\n",
    "else:\n",
    "    print(\"❌ Connection failed. Ensure Ganache is running.\")"
   ]
  },
  {
   "cell_type": "code",
   "execution_count": 6,
   "id": "657c8bf7",
   "metadata": {},
   "outputs": [
    {
     "name": "stdout",
     "output_type": "stream",
     "text": [
      "✅ Connected to Smart Contract at 0x1549608d05D5484c8e323a79d721c84EDb92b801\n"
     ]
    }
   ],
   "source": [
    "contract_address = \"0x1549608d05D5484c8e323a79d721c84EDb92b801\"\n",
    "\n",
    "# ABI from Remix\n",
    "abi = [\n",
    "    {\n",
    "        \"inputs\": [],\n",
    "        \"stateMutability\": \"nonpayable\",\n",
    "        \"type\": \"constructor\"\n",
    "    },\n",
    "    {\n",
    "        \"anonymous\": False,\n",
    "        \"inputs\": [\n",
    "            {\"indexed\": False, \"internalType\": \"uint256\", \"name\": \"timestamp\", \"type\": \"uint256\"},\n",
    "            {\"indexed\": False, \"internalType\": \"string\", \"name\": \"sensorId\", \"type\": \"string\"},\n",
    "            {\"indexed\": False, \"internalType\": \"string\", \"name\": \"MetricType\", \"type\": \"string\"},\n",
    "            {\"indexed\": False, \"internalType\": \"string\", \"name\": \"MetricValue\", \"type\": \"string\"}\n",
    "        ],\n",
    "        \"name\": \"DataStored\",\n",
    "        \"type\": \"event\"\n",
    "    },\n",
    "    {\n",
    "        \"inputs\": [],\n",
    "        \"name\": \"MAX_ENTRIES\",\n",
    "        \"outputs\": [{\"internalType\": \"uint256\", \"name\": \"\", \"type\": \"uint256\"}],\n",
    "        \"stateMutability\": \"view\",\n",
    "        \"type\": \"function\"\n",
    "    },\n",
    "    {\n",
    "        \"inputs\": [{\"internalType\": \"uint256\", \"name\": \"\", \"type\": \"uint256\"}],\n",
    "        \"name\": \"dataRecords\",\n",
    "        \"outputs\": [\n",
    "            {\"internalType\": \"uint256\", \"name\": \"timestamp\", \"type\": \"uint256\"},\n",
    "            {\"internalType\": \"string\", \"name\": \"sensorId\", \"type\": \"string\"},\n",
    "            {\"internalType\": \"string\", \"name\": \"MetricType\", \"type\": \"string\"},\n",
    "            {\"internalType\": \"string\", \"name\": \"MetricValue\", \"type\": \"string\"}\n",
    "        ],\n",
    "        \"stateMutability\": \"view\",\n",
    "        \"type\": \"function\"\n",
    "    },\n",
    "    {\n",
    "        \"inputs\": [{\"internalType\": \"uint256\", \"name\": \"index\", \"type\": \"uint256\"}],\n",
    "        \"name\": \"getRecord\",\n",
    "        \"outputs\": [\n",
    "            {\"internalType\": \"uint256\", \"name\": \"\", \"type\": \"uint256\"},\n",
    "            {\"internalType\": \"string\", \"name\": \"\", \"type\": \"string\"},\n",
    "            {\"internalType\": \"string\", \"name\": \"\", \"type\": \"string\"},\n",
    "            {\"internalType\": \"string\", \"name\": \"\", \"type\": \"string\"}\n",
    "        ],\n",
    "        \"stateMutability\": \"view\",\n",
    "        \"type\": \"function\"\n",
    "    },\n",
    "    {\n",
    "        \"inputs\": [],\n",
    "        \"name\": \"getTotalRecords\",\n",
    "        \"outputs\": [{\"internalType\": \"uint256\", \"name\": \"\", \"type\": \"uint256\"}],\n",
    "        \"stateMutability\": \"view\",\n",
    "        \"type\": \"function\"\n",
    "    },\n",
    "    {\n",
    "        \"inputs\": [],\n",
    "        \"name\": \"owner\",\n",
    "        \"outputs\": [{\"internalType\": \"address\", \"name\": \"\", \"type\": \"address\"}],\n",
    "        \"stateMutability\": \"view\",\n",
    "        \"type\": \"function\"\n",
    "    },\n",
    "    {\n",
    "        \"inputs\": [\n",
    "            {\"internalType\": \"string\", \"name\": \"_sensorId\", \"type\": \"string\"},\n",
    "            {\"internalType\": \"string\", \"name\": \"_MetricType\", \"type\": \"string\"},\n",
    "            {\"internalType\": \"string\", \"name\": \"_MetricValue\", \"type\": \"string\"}\n",
    "        ],\n",
    "        \"name\": \"storeData\",\n",
    "        \"outputs\": [],\n",
    "        \"stateMutability\": \"nonpayable\",\n",
    "        \"type\": \"function\"\n",
    "    },\n",
    "    {\n",
    "        \"inputs\": [\n",
    "            {\"internalType\": \"string\", \"name\": \"_sensorId\", \"type\": \"string\"},\n",
    "            {\"internalType\": \"string\", \"name\": \"co2\", \"type\": \"string\"},\n",
    "            {\"internalType\": \"string\", \"name\": \"pm25\", \"type\": \"string\"},\n",
    "            {\"internalType\": \"string\", \"name\": \"temperature\", \"type\": \"string\"},\n",
    "            {\"internalType\": \"string\", \"name\": \"humidity\", \"type\": \"string\"},\n",
    "            {\"internalType\": \"string\", \"name\": \"soilMoisture\", \"type\": \"string\"},\n",
    "            {\"internalType\": \"string\", \"name\": \"waterPh\", \"type\": \"string\"},\n",
    "            {\"internalType\": \"string\", \"name\": \"turbidity\", \"type\": \"string\"}\n",
    "        ],\n",
    "        \"name\": \"storeFullSensorData\",\n",
    "        \"outputs\": [],\n",
    "        \"stateMutability\": \"nonpayable\",\n",
    "        \"type\": \"function\"\n",
    "    } \n",
    "]\n",
    "\n",
    "\n",
    "\n",
    "# Load the smart contract\n",
    "contract = web3.eth.contract(address=contract_address, abi=abi)\n",
    "\n",
    "\n",
    "# Set default sender address (usually the first one in Ganache)\n",
    "web3.eth.default_account = web3.eth.accounts[0]\n",
    "\n",
    "print(f\"✅ Connected to Smart Contract at {contract_address}\")"
   ]
  },
  {
   "cell_type": "code",
   "execution_count": 7,
   "id": "47173f9c",
   "metadata": {},
   "outputs": [
    {
     "name": "stdout",
     "output_type": "stream",
     "text": [
      "Total Records: 0\n"
     ]
    }
   ],
   "source": [
    "total_records = contract.functions.getTotalRecords().call()\n",
    "print(f\"Total Records: {total_records}\")"
   ]
  },
  {
   "cell_type": "code",
   "execution_count": 8,
   "id": "89a1e506",
   "metadata": {},
   "outputs": [
    {
     "name": "stdout",
     "output_type": "stream",
     "text": [
      "✅ Dummy data stored on blockchain!\n"
     ]
    }
   ],
   "source": [
    "txn = contract.functions.storeData(\"TEST001\", \"Temperature\", \"22.5°C\").transact({\n",
    "    'from': web3.eth.default_account,\n",
    "    'gas': 1000000\n",
    "})\n",
    "web3.eth.wait_for_transaction_receipt(txn)\n",
    "print(\"✅ Dummy data stored on blockchain!\")"
   ]
  },
  {
   "cell_type": "code",
   "execution_count": 9,
   "id": "f820cbdf",
   "metadata": {},
   "outputs": [
    {
     "name": "stdout",
     "output_type": "stream",
     "text": [
      "Total Records: 1\n",
      "First Stored Record: [1747997549, 'TEST001', 'Temperature', '22.5°C']\n"
     ]
    }
   ],
   "source": [
    "total_records = contract.functions.getTotalRecords().call()\n",
    "print(f\"Total Records: {total_records}\")\n",
    "\n",
    "record = contract.functions.getRecord(0).call()\n",
    "print(\"First Stored Record:\", record)"
   ]
  },
  {
   "cell_type": "code",
   "execution_count": null,
   "id": "ce5c2612",
   "metadata": {},
   "outputs": [],
   "source": []
  }
 ],
 "metadata": {
  "kernelspec": {
   "display_name": "Python 3 (ipykernel)",
   "language": "python",
   "name": "python3"
  },
  "language_info": {
   "codemirror_mode": {
    "name": "ipython",
    "version": 3
   },
   "file_extension": ".py",
   "mimetype": "text/x-python",
   "name": "python",
   "nbconvert_exporter": "python",
   "pygments_lexer": "ipython3",
   "version": "3.9.13"
  }
 },
 "nbformat": 4,
 "nbformat_minor": 5
}
